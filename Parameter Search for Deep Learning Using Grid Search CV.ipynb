{
  "nbformat": 4,
  "nbformat_minor": 0,
  "metadata": {
    "colab": {
      "name": "Chapter 9.ipynb",
      "provenance": [],
      "authorship_tag": "ABX9TyPMZlpvKlPADeZNZ4aETLm1",
      "include_colab_link": true
    },
    "kernelspec": {
      "name": "python3",
      "display_name": "Python 3"
    },
    "language_info": {
      "name": "python"
    }
  },
  "cells": [
    {
      "cell_type": "markdown",
      "metadata": {
        "id": "view-in-github",
        "colab_type": "text"
      },
      "source": [
        "<a href=\"https://colab.research.google.com/github/AVI18794/DLND/blob/master/Parameter%20Search%20for%20Deep%20Learning%20Using%20Grid%20Search%20CV.ipynb\" target=\"_parent\"><img src=\"https://colab.research.google.com/assets/colab-badge.svg\" alt=\"Open In Colab\"/></a>"
      ]
    },
    {
      "cell_type": "code",
      "metadata": {
        "id": "Xh1LVBM9T-Ry"
      },
      "source": [
        "# Use scikit-learn to grid search the batch size and epochs\n",
        "import numpy\n",
        "from sklearn.model_selection import GridSearchCV\n",
        "from keras.models import Sequential\n",
        "from keras.layers import Dense\n",
        "from keras.wrappers.scikit_learn import KerasClassifier\n",
        "# Function to create model, required for KerasClassifier\n",
        "def create_model():\n",
        "\t# create model\n",
        "\tmodel = Sequential()\n",
        "\tmodel.add(Dense(12, input_dim=8, activation='relu'))\n",
        "\tmodel.add(Dense(1, activation='sigmoid'))\n",
        "\t# Compile model\n",
        "\tmodel.compile(loss='binary_crossentropy', optimizer='adam', metrics=['accuracy'])\n",
        "\treturn model"
      ],
      "execution_count": 18,
      "outputs": []
    },
    {
      "cell_type": "code",
      "metadata": {
        "id": "EcuS5a_MUFEE"
      },
      "source": [
        "import pandas as pd\n",
        "url = \"https://raw.githubusercontent.com/npradaschnor/Pima-Indians-Diabetes-Dataset/master/diabetes.csv\"\n",
        "\n",
        "# fix random seed for reproducibility\n",
        "seed = 7\n",
        "numpy.random.seed(seed)\n",
        "# load dataset\n",
        "dataset = pd.read_csv(url)\n",
        "# split into input (X) and output (Y) variables\n",
        "X = dataset.iloc[:,0:8].values\n",
        "Y = dataset.iloc[:,8].values"
      ],
      "execution_count": 19,
      "outputs": []
    },
    {
      "cell_type": "code",
      "metadata": {
        "id": "jMPn8IqLUcnp"
      },
      "source": [
        "# create model\n",
        "model = KerasClassifier(build_fn=create_model, verbose=0)"
      ],
      "execution_count": 20,
      "outputs": []
    },
    {
      "cell_type": "code",
      "metadata": {
        "id": "tejnXovBUgSa"
      },
      "source": [
        "# define the grid search parameters\n",
        "batch_size = [10, 20, 40, 60, 80, 100]\n",
        "epochs = [10, 50, 100]\n",
        "optimizers = ['rmsprop','adam']\n",
        "init =['glorot_uniform','uniform','normal']\n",
        "param_grid = dict(batch_size=batch_size, epochs=epochs)"
      ],
      "execution_count": 22,
      "outputs": []
    },
    {
      "cell_type": "code",
      "metadata": {
        "id": "13HnzmNxUk71"
      },
      "source": [
        "grid = GridSearchCV(estimator=model, param_grid=param_grid, n_jobs=-1, cv=3)\n",
        "grid_result = grid.fit(X, Y)"
      ],
      "execution_count": 23,
      "outputs": []
    },
    {
      "cell_type": "code",
      "metadata": {
        "colab": {
          "base_uri": "https://localhost:8080/"
        },
        "id": "jvYDAMKeVFRb",
        "outputId": "d266f497-8b2d-45af-c365-431408d7fc3a"
      },
      "source": [
        "# summarize results\n",
        "print(\"Best: %f using %s\" % (grid_result.best_score_, grid_result.best_params_))\n",
        "means = grid_result.cv_results_['mean_test_score']\n",
        "stds = grid_result.cv_results_['std_test_score']\n",
        "params = grid_result.cv_results_['params']\n",
        "for mean, stdev, param in zip(means, stds, params):\n",
        "    print(\"%f (%f) with: %r\" % (mean, stdev, param))"
      ],
      "execution_count": 24,
      "outputs": [
        {
          "output_type": "stream",
          "text": [
            "Best: 0.682292 using {'batch_size': 20, 'epochs': 50}\n",
            "0.578125 (0.045218) with: {'batch_size': 10, 'epochs': 10}\n",
            "0.665365 (0.025780) with: {'batch_size': 10, 'epochs': 50}\n",
            "0.671875 (0.030425) with: {'batch_size': 10, 'epochs': 100}\n",
            "0.544271 (0.073657) with: {'batch_size': 20, 'epochs': 10}\n",
            "0.682292 (0.015733) with: {'batch_size': 20, 'epochs': 50}\n",
            "0.679688 (0.011500) with: {'batch_size': 20, 'epochs': 100}\n",
            "0.626302 (0.036966) with: {'batch_size': 40, 'epochs': 10}\n",
            "0.609375 (0.068182) with: {'batch_size': 40, 'epochs': 50}\n",
            "0.627604 (0.008027) with: {'batch_size': 40, 'epochs': 100}\n",
            "0.615885 (0.004872) with: {'batch_size': 60, 'epochs': 10}\n",
            "0.639323 (0.045256) with: {'batch_size': 60, 'epochs': 50}\n",
            "0.674479 (0.016053) with: {'batch_size': 60, 'epochs': 100}\n",
            "0.563802 (0.057968) with: {'batch_size': 80, 'epochs': 10}\n",
            "0.634115 (0.016053) with: {'batch_size': 80, 'epochs': 50}\n",
            "0.656250 (0.020915) with: {'batch_size': 80, 'epochs': 100}\n",
            "0.592448 (0.057084) with: {'batch_size': 100, 'epochs': 10}\n",
            "0.576823 (0.038318) with: {'batch_size': 100, 'epochs': 50}\n",
            "0.643229 (0.061955) with: {'batch_size': 100, 'epochs': 100}\n"
          ],
          "name": "stdout"
        }
      ]
    },
    {
      "cell_type": "code",
      "metadata": {
        "id": "PJzNdpshVhV0"
      },
      "source": [
        ""
      ],
      "execution_count": null,
      "outputs": []
    }
  ]
}